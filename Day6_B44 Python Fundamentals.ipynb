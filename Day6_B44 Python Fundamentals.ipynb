{
 "cells": [
  {
   "cell_type": "code",
   "execution_count": null,
   "metadata": {},
   "outputs": [],
   "source": [
    "Continuation with Lists"
   ]
  },
  {
   "cell_type": "code",
   "execution_count": 1,
   "metadata": {},
   "outputs": [],
   "source": [
    "studnts = ['ranga', 'venkat', 'vijay', 'khatija', 'sweta', 'kiran', 'abdul' ]"
   ]
  },
  {
   "cell_type": "code",
   "execution_count": 2,
   "metadata": {},
   "outputs": [
    {
     "name": "stdout",
     "output_type": "stream",
     "text": [
      "['ranga', 'venkat', 'vijay', 'khatija', 'sweta', 'kiran', 'abdul']\n"
     ]
    }
   ],
   "source": [
    "print(studnts)"
   ]
  },
  {
   "cell_type": "code",
   "execution_count": 3,
   "metadata": {},
   "outputs": [
    {
     "data": {
      "text/plain": [
       "list"
      ]
     },
     "execution_count": 3,
     "metadata": {},
     "output_type": "execute_result"
    }
   ],
   "source": [
    "type(studnts)"
   ]
  },
  {
   "cell_type": "code",
   "execution_count": null,
   "metadata": {},
   "outputs": [],
   "source": [
    " # req: want appreciate the above students....................!"
   ]
  },
  {
   "cell_type": "code",
   "execution_count": 10,
   "metadata": {},
   "outputs": [],
   "source": [
    "message = f\"keep up the good work, {studnts[0].title()}\""
   ]
  },
  {
   "cell_type": "code",
   "execution_count": 11,
   "metadata": {},
   "outputs": [
    {
     "name": "stdout",
     "output_type": "stream",
     "text": [
      "keep up the good work, Ranga\n"
     ]
    }
   ],
   "source": [
    "print(message)"
   ]
  },
  {
   "cell_type": "code",
   "execution_count": 12,
   "metadata": {},
   "outputs": [],
   "source": [
    "message = f\"keep up the good work, {studnts[1].title()}\""
   ]
  },
  {
   "cell_type": "code",
   "execution_count": 13,
   "metadata": {},
   "outputs": [
    {
     "name": "stdout",
     "output_type": "stream",
     "text": [
      "keep up the good work, Venkat\n"
     ]
    }
   ],
   "source": [
    "print(message)"
   ]
  },
  {
   "cell_type": "code",
   "execution_count": null,
   "metadata": {},
   "outputs": [],
   "source": [
    "#indtroduction to for loops\n",
    "#general syntax of a for loop:\n",
    "for tempvar in mainvar(studnts):\n",
    "    print(tempvar)\n",
    "    note tempvar can be any name you want to define"
   ]
  },
  {
   "cell_type": "code",
   "execution_count": 16,
   "metadata": {},
   "outputs": [
    {
     "name": "stdout",
     "output_type": "stream",
     "text": [
      "keep up the good work, Ranga\n",
      "keep up the good work, Venkat\n",
      "keep up the good work, Vijay\n",
      "keep up the good work, Khatija\n",
      "keep up the good work, Sweta\n",
      "keep up the good work, Kiran\n",
      "keep up the good work, Abdul\n"
     ]
    }
   ],
   "source": [
    "for x in studnts:\n",
    "    print(f\"keep up the good work, {x.title()}\")"
   ]
  },
  {
   "cell_type": "code",
   "execution_count": 17,
   "metadata": {},
   "outputs": [
    {
     "name": "stdout",
     "output_type": "stream",
     "text": [
      "keep up the good work, Ranga\n",
      "keep up the good work, Venkat\n",
      "keep up the good work, Vijay\n",
      "keep up the good work, Khatija\n",
      "keep up the good work, Sweta\n",
      "keep up the good work, Kiran\n",
      "keep up the good work, Abdul\n"
     ]
    }
   ],
   "source": [
    "for ironman in studnts:\n",
    "    print(f\"keep up the good work, {ironman.title()}\")"
   ]
  },
  {
   "cell_type": "code",
   "execution_count": null,
   "metadata": {},
   "outputs": [],
   "source": [
    "#enhansment of the code...?"
   ]
  },
  {
   "cell_type": "code",
   "execution_count": 18,
   "metadata": {},
   "outputs": [
    {
     "name": "stdout",
     "output_type": "stream",
     "text": [
      "keep up the good work, Ranga\n",
      "i will keep looking to receive the pracites files\n",
      "keep up the good work, Venkat\n",
      "i will keep looking to receive the pracites files\n",
      "keep up the good work, Vijay\n",
      "i will keep looking to receive the pracites files\n",
      "keep up the good work, Khatija\n",
      "i will keep looking to receive the pracites files\n",
      "keep up the good work, Sweta\n",
      "i will keep looking to receive the pracites files\n",
      "keep up the good work, Kiran\n",
      "i will keep looking to receive the pracites files\n",
      "keep up the good work, Abdul\n",
      "i will keep looking to receive the pracites files\n"
     ]
    }
   ],
   "source": [
    "for x in studnts:\n",
    "    print(f\"keep up the good work, {x.title()}\")\n",
    "    print(f\"i will keep looking to receive the pracites files\")\n",
    "    "
   ]
  },
  {
   "cell_type": "code",
   "execution_count": null,
   "metadata": {},
   "outputs": [],
   "source": []
  },
  {
   "cell_type": "code",
   "execution_count": 19,
   "metadata": {},
   "outputs": [
    {
     "name": "stdout",
     "output_type": "stream",
     "text": [
      "keep up the good work, Ranga.\n",
      "\n",
      "i will keep looking to receive the pracites files\n",
      "keep up the good work, Venkat.\n",
      "\n",
      "i will keep looking to receive the pracites files\n",
      "keep up the good work, Vijay.\n",
      "\n",
      "i will keep looking to receive the pracites files\n",
      "keep up the good work, Khatija.\n",
      "\n",
      "i will keep looking to receive the pracites files\n",
      "keep up the good work, Sweta.\n",
      "\n",
      "i will keep looking to receive the pracites files\n",
      "keep up the good work, Kiran.\n",
      "\n",
      "i will keep looking to receive the pracites files\n",
      "keep up the good work, Abdul.\n",
      "\n",
      "i will keep looking to receive the pracites files\n"
     ]
    }
   ],
   "source": [
    "for x in studnts:\n",
    "    print(f\"keep up the good work, {x.title()}.\\n\")\n",
    "    print(f\"i will keep looking to receive the pracites files\")"
   ]
  },
  {
   "cell_type": "code",
   "execution_count": 20,
   "metadata": {},
   "outputs": [
    {
     "name": "stdout",
     "output_type": "stream",
     "text": [
      "keep up the good work, Ranga\n",
      "i will keep looking to receive the pracites files today,Ranga.\n",
      " \n",
      "keep up the good work, Venkat\n",
      "i will keep looking to receive the pracites files today,Venkat.\n",
      " \n",
      "keep up the good work, Vijay\n",
      "i will keep looking to receive the pracites files today,Vijay.\n",
      " \n",
      "keep up the good work, Khatija\n",
      "i will keep looking to receive the pracites files today,Khatija.\n",
      " \n",
      "keep up the good work, Sweta\n",
      "i will keep looking to receive the pracites files today,Sweta.\n",
      " \n",
      "keep up the good work, Kiran\n",
      "i will keep looking to receive the pracites files today,Kiran.\n",
      " \n",
      "keep up the good work, Abdul\n",
      "i will keep looking to receive the pracites files today,Abdul.\n",
      " \n"
     ]
    }
   ],
   "source": [
    "for x in studnts:\n",
    "    print(f\"keep up the good work, {x.title()}\")\n",
    "    print(f\"i will keep looking to receive the pracites files today,{x.title()}.\\n \")"
   ]
  },
  {
   "cell_type": "code",
   "execution_count": null,
   "metadata": {},
   "outputs": [],
   "source": [
    "Introduction to Range function"
   ]
  },
  {
   "cell_type": "code",
   "execution_count": null,
   "metadata": {},
   "outputs": [],
   "source": [
    "# general syntax : range(start,stop,stepcount)"
   ]
  },
  {
   "cell_type": "code",
   "execution_count": null,
   "metadata": {},
   "outputs": [],
   "source": [
    "# req : want to print the number till 20"
   ]
  },
  {
   "cell_type": "code",
   "execution_count": 21,
   "metadata": {},
   "outputs": [],
   "source": [
    "numbers = list(range(0,20))"
   ]
  },
  {
   "cell_type": "code",
   "execution_count": 22,
   "metadata": {},
   "outputs": [
    {
     "name": "stdout",
     "output_type": "stream",
     "text": [
      "[0, 1, 2, 3, 4, 5, 6, 7, 8, 9, 10, 11, 12, 13, 14, 15, 16, 17, 18, 19]\n"
     ]
    }
   ],
   "source": [
    "print(numbers)"
   ]
  },
  {
   "cell_type": "code",
   "execution_count": null,
   "metadata": {},
   "outputs": [],
   "source": [
    "Note last value always exclusive"
   ]
  },
  {
   "cell_type": "code",
   "execution_count": null,
   "metadata": {},
   "outputs": [],
   "source": [
    "# Print a list of even numbers till 30"
   ]
  },
  {
   "cell_type": "code",
   "execution_count": 24,
   "metadata": {},
   "outputs": [],
   "source": [
    "even_numbers = list(range(2,32,2))"
   ]
  },
  {
   "cell_type": "code",
   "execution_count": 25,
   "metadata": {},
   "outputs": [
    {
     "name": "stdout",
     "output_type": "stream",
     "text": [
      "[2, 4, 6, 8, 10, 12, 14, 16, 18, 20, 22, 24, 26, 28, 30]\n"
     ]
    }
   ],
   "source": [
    "print(even_numbers)"
   ]
  },
  {
   "cell_type": "code",
   "execution_count": null,
   "metadata": {},
   "outputs": [],
   "source": []
  }
 ],
 "metadata": {
  "kernelspec": {
   "display_name": "Python 3",
   "language": "python",
   "name": "python3"
  },
  "language_info": {
   "codemirror_mode": {
    "name": "ipython",
    "version": 3
   },
   "file_extension": ".py",
   "mimetype": "text/x-python",
   "name": "python",
   "nbconvert_exporter": "python",
   "pygments_lexer": "ipython3",
   "version": "3.8.5"
  }
 },
 "nbformat": 4,
 "nbformat_minor": 4
}
